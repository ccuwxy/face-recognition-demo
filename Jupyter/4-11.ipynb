{
 "cells": [
  {
   "cell_type": "code",
   "execution_count": 1,
   "metadata": {
    "collapsed": true
   },
   "outputs": [],
   "source": [
    "import numpy as np\n",
    "import cv2"
   ]
  },
  {
   "cell_type": "code",
   "execution_count": 2,
   "outputs": [],
   "source": [
    "img = cv2.imread(\"tp.jpg\")\n",
    "\n",
    "height = img.shape[0]\n",
    "width = img.shape[1]"
   ],
   "metadata": {
    "collapsed": false,
    "pycharm": {
     "name": "#%%\n"
    }
   }
  },
  {
   "cell_type": "code",
   "execution_count": 3,
   "outputs": [],
   "source": [
    "negative_file = np.zeros((height,width,3))"
   ],
   "metadata": {
    "collapsed": false,
    "pycharm": {
     "name": "#%%\n"
    }
   }
  },
  {
   "cell_type": "code",
   "execution_count": 4,
   "outputs": [],
   "source": [
    "b,g,r = cv2.split(img)"
   ],
   "metadata": {
    "collapsed": false,
    "pycharm": {
     "name": "#%%\n"
    }
   }
  },
  {
   "cell_type": "code",
   "execution_count": 5,
   "outputs": [],
   "source": [
    "r = 255 - r\n",
    "b = 255 - b\n",
    "g = 255 - g"
   ],
   "metadata": {
    "collapsed": false,
    "pycharm": {
     "name": "#%%\n"
    }
   }
  },
  {
   "cell_type": "code",
   "execution_count": 6,
   "outputs": [],
   "source": [
    "negative_file[:,:,0] = b\n",
    "negative_file[:,:,1] = g\n",
    "negative_file[:,:,2] = r"
   ],
   "metadata": {
    "collapsed": false,
    "pycharm": {
     "name": "#%%\n"
    }
   }
  },
  {
   "cell_type": "code",
   "execution_count": 7,
   "outputs": [
    {
     "data": {
      "text/plain": "array([[[186., 226., 244.],\n        [186., 226., 244.],\n        [186., 226., 244.],\n        ...,\n        [166., 221., 236.],\n        [166., 221., 236.],\n        [166., 221., 236.]],\n\n       [[186., 226., 244.],\n        [186., 226., 244.],\n        [186., 226., 244.],\n        ...,\n        [166., 221., 236.],\n        [166., 221., 236.],\n        [166., 221., 236.]],\n\n       [[186., 226., 244.],\n        [186., 226., 244.],\n        [186., 226., 244.],\n        ...,\n        [166., 221., 236.],\n        [166., 221., 236.],\n        [166., 221., 236.]],\n\n       ...,\n\n       [[ 45.,  78.,  93.],\n        [ 46.,  79.,  94.],\n        [ 46.,  79.,  94.],\n        ...,\n        [ 67., 147., 232.],\n        [ 67., 147., 232.],\n        [ 67., 147., 232.]],\n\n       [[ 46.,  79.,  94.],\n        [ 46.,  79.,  94.],\n        [ 46.,  79.,  94.],\n        ...,\n        [ 67., 147., 232.],\n        [ 67., 147., 232.],\n        [ 67., 147., 232.]],\n\n       [[ 47.,  80.,  95.],\n        [ 46.,  79.,  94.],\n        [ 45.,  78.,  93.],\n        ...,\n        [ 67., 147., 232.],\n        [ 67., 147., 232.],\n        [ 67., 147., 232.]]])"
     },
     "execution_count": 7,
     "metadata": {},
     "output_type": "execute_result"
    }
   ],
   "source": [
    "negative_file"
   ],
   "metadata": {
    "collapsed": false,
    "pycharm": {
     "name": "#%%\n"
    }
   }
  },
  {
   "cell_type": "code",
   "execution_count": 8,
   "outputs": [
    {
     "data": {
      "text/plain": "True"
     },
     "execution_count": 8,
     "metadata": {},
     "output_type": "execute_result"
    }
   ],
   "source": [
    "cv2.imwrite(\"tp.negative.jpg\",negative_file)\n"
   ],
   "metadata": {
    "collapsed": false,
    "pycharm": {
     "name": "#%%\n"
    }
   }
  }
 ],
 "metadata": {
  "kernelspec": {
   "display_name": "Python 3",
   "language": "python",
   "name": "python3"
  },
  "language_info": {
   "codemirror_mode": {
    "name": "ipython",
    "version": 2
   },
   "file_extension": ".py",
   "mimetype": "text/x-python",
   "name": "python",
   "nbconvert_exporter": "python",
   "pygments_lexer": "ipython2",
   "version": "2.7.6"
  }
 },
 "nbformat": 4,
 "nbformat_minor": 0
}