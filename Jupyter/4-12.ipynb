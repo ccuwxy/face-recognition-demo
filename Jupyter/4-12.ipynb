{
 "cells": [
  {
   "cell_type": "code",
   "execution_count": 1,
   "metadata": {
    "collapsed": true
   },
   "outputs": [],
   "source": [
    "import cv2\n",
    "import numpy as np"
   ]
  },
  {
   "cell_type": "code",
   "execution_count": 2,
   "outputs": [],
   "source": [
    "def convert_img1(img,alpha,beta):\n",
    "    blank = np.zeros(img.shape,img.dtype)\n",
    "    return cv2.addWeighted(img,alpha,blank,0,beta)"
   ],
   "metadata": {
    "collapsed": false,
    "pycharm": {
     "name": "#%%\n"
    }
   }
  },
  {
   "cell_type": "code",
   "execution_count": 3,
   "outputs": [],
   "source": [
    "def convert_img2(img,alpha,beta):\n",
    "    rows,cols,channel = img.shape\n",
    "    new_img = np.zeros(img.shape,img.dtype)\n",
    "    for i in range(0,rows):\n",
    "        for j in range(0,cols):\n",
    "            for k in range(0,channel):\n",
    "                new_img[i,j,k] = np.clip(\n",
    "                    alpha * img[i,j,k] + beta, 0, 255\n",
    "                )\n",
    "    return new_img"
   ],
   "metadata": {
    "collapsed": false,
    "pycharm": {
     "name": "#%%\n"
    }
   }
  },
  {
   "cell_type": "code",
   "execution_count": 6,
   "outputs": [
    {
     "data": {
      "text/plain": "True"
     },
     "execution_count": 6,
     "metadata": {},
     "output_type": "execute_result"
    }
   ],
   "source": [
    "img = cv2.imread('tp.jpg')\n",
    "cv2.imwrite(\"tp.converted1.jpg\",convert_img1(img,2.2,50))\n",
    "cv2.imwrite(\"tp.converted2.jpg\",convert_img2(img,2.2,50))\n"
   ],
   "metadata": {
    "collapsed": false,
    "pycharm": {
     "name": "#%%\n"
    }
   }
  }
 ],
 "metadata": {
  "kernelspec": {
   "display_name": "Python 3",
   "language": "python",
   "name": "python3"
  },
  "language_info": {
   "codemirror_mode": {
    "name": "ipython",
    "version": 2
   },
   "file_extension": ".py",
   "mimetype": "text/x-python",
   "name": "python",
   "nbconvert_exporter": "python",
   "pygments_lexer": "ipython2",
   "version": "2.7.6"
  }
 },
 "nbformat": 4,
 "nbformat_minor": 0
}