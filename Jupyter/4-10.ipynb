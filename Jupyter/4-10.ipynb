{
 "cells": [
  {
   "cell_type": "code",
   "execution_count": 1,
   "metadata": {
    "collapsed": true
   },
   "outputs": [],
   "source": [
    "import numpy as np\n",
    "import cv2"
   ]
  },
  {
   "cell_type": "code",
   "execution_count": 2,
   "outputs": [
    {
     "name": "stdout",
     "output_type": "stream",
     "text": [
      "(1886, 1080, 3)\n"
     ]
    }
   ],
   "source": [
    "img = cv2.imread(\"tp.jpg\")\n",
    "\n",
    "print(img.shape)"
   ],
   "metadata": {
    "collapsed": false,
    "pycharm": {
     "name": "#%%\n"
    }
   }
  },
  {
   "cell_type": "code",
   "execution_count": 3,
   "outputs": [
    {
     "name": "stdout",
     "output_type": "stream",
     "text": [
      "(1886, 1080)\n"
     ]
    }
   ],
   "source": [
    "gray_img = cv2.cvtColor(img,cv2.COLOR_BGR2GRAY)\n",
    "\n",
    "print(gray_img.shape)"
   ],
   "metadata": {
    "collapsed": false,
    "pycharm": {
     "name": "#%%\n"
    }
   }
  },
  {
   "cell_type": "code",
   "execution_count": 4,
   "outputs": [
    {
     "name": "stdout",
     "output_type": "stream",
     "text": [
      "(1886, 1080, 3)\n"
     ]
    }
   ],
   "source": [
    "img2 = cv2.cvtColor(gray_img,cv2.COLOR_GRAY2BGR)\n",
    "print(img2.shape)"
   ],
   "metadata": {
    "collapsed": false,
    "pycharm": {
     "name": "#%%\n"
    }
   }
  },
  {
   "cell_type": "code",
   "execution_count": 5,
   "outputs": [
    {
     "name": "stdout",
     "output_type": "stream",
     "text": [
      "[[[ 69  29  11]\n",
      "  [ 69  29  11]\n",
      "  [ 69  29  11]\n",
      "  ...\n",
      "  [ 89  34  19]\n",
      "  [ 89  34  19]\n",
      "  [ 89  34  19]]\n",
      "\n",
      " [[ 69  29  11]\n",
      "  [ 69  29  11]\n",
      "  [ 69  29  11]\n",
      "  ...\n",
      "  [ 89  34  19]\n",
      "  [ 89  34  19]\n",
      "  [ 89  34  19]]\n",
      "\n",
      " [[ 69  29  11]\n",
      "  [ 69  29  11]\n",
      "  [ 69  29  11]\n",
      "  ...\n",
      "  [ 89  34  19]\n",
      "  [ 89  34  19]\n",
      "  [ 89  34  19]]\n",
      "\n",
      " ...\n",
      "\n",
      " [[210 177 162]\n",
      "  [209 176 161]\n",
      "  [209 176 161]\n",
      "  ...\n",
      "  [188 108  23]\n",
      "  [188 108  23]\n",
      "  [188 108  23]]\n",
      "\n",
      " [[209 176 161]\n",
      "  [209 176 161]\n",
      "  [209 176 161]\n",
      "  ...\n",
      "  [188 108  23]\n",
      "  [188 108  23]\n",
      "  [188 108  23]]\n",
      "\n",
      " [[208 175 160]\n",
      "  [209 176 161]\n",
      "  [210 177 162]\n",
      "  ...\n",
      "  [188 108  23]\n",
      "  [188 108  23]\n",
      "  [188 108  23]]]\n"
     ]
    }
   ],
   "source": [
    "print(img)"
   ],
   "metadata": {
    "collapsed": false,
    "pycharm": {
     "name": "#%%\n"
    }
   }
  },
  {
   "cell_type": "code",
   "execution_count": 6,
   "outputs": [
    {
     "name": "stdout",
     "output_type": "stream",
     "text": [
      "[[[ 28  28  28]\n",
      "  [ 28  28  28]\n",
      "  [ 28  28  28]\n",
      "  ...\n",
      "  [ 36  36  36]\n",
      "  [ 36  36  36]\n",
      "  [ 36  36  36]]\n",
      "\n",
      " [[ 28  28  28]\n",
      "  [ 28  28  28]\n",
      "  [ 28  28  28]\n",
      "  ...\n",
      "  [ 36  36  36]\n",
      "  [ 36  36  36]\n",
      "  [ 36  36  36]]\n",
      "\n",
      " [[ 28  28  28]\n",
      "  [ 28  28  28]\n",
      "  [ 28  28  28]\n",
      "  ...\n",
      "  [ 36  36  36]\n",
      "  [ 36  36  36]\n",
      "  [ 36  36  36]]\n",
      "\n",
      " ...\n",
      "\n",
      " [[176 176 176]\n",
      "  [175 175 175]\n",
      "  [175 175 175]\n",
      "  ...\n",
      "  [ 92  92  92]\n",
      "  [ 92  92  92]\n",
      "  [ 92  92  92]]\n",
      "\n",
      " [[175 175 175]\n",
      "  [175 175 175]\n",
      "  [175 175 175]\n",
      "  ...\n",
      "  [ 92  92  92]\n",
      "  [ 92  92  92]\n",
      "  [ 92  92  92]]\n",
      "\n",
      " [[174 174 174]\n",
      "  [175 175 175]\n",
      "  [176 176 176]\n",
      "  ...\n",
      "  [ 92  92  92]\n",
      "  [ 92  92  92]\n",
      "  [ 92  92  92]]]\n"
     ]
    }
   ],
   "source": [
    "print(img2)"
   ],
   "metadata": {
    "collapsed": false,
    "pycharm": {
     "name": "#%%\n"
    }
   }
  },
  {
   "cell_type": "code",
   "execution_count": 8,
   "outputs": [
    {
     "data": {
      "text/plain": "True"
     },
     "execution_count": 8,
     "metadata": {},
     "output_type": "execute_result"
    }
   ],
   "source": [
    "cv2.imwrite(\"tp.img2.jpg\",img2)\n",
    "cv2.imwrite(\"tp.gray_img.jpg\",gray_img)\n"
   ],
   "metadata": {
    "collapsed": false,
    "pycharm": {
     "name": "#%%\n"
    }
   }
  }
 ],
 "metadata": {
  "kernelspec": {
   "display_name": "Python 3",
   "language": "python",
   "name": "python3"
  },
  "language_info": {
   "codemirror_mode": {
    "name": "ipython",
    "version": 2
   },
   "file_extension": ".py",
   "mimetype": "text/x-python",
   "name": "python",
   "nbconvert_exporter": "python",
   "pygments_lexer": "ipython2",
   "version": "2.7.6"
  }
 },
 "nbformat": 4,
 "nbformat_minor": 0
}