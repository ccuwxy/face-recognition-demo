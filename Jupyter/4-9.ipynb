{
 "cells": [
  {
   "cell_type": "code",
   "execution_count": 1,
   "metadata": {
    "collapsed": true
   },
   "outputs": [],
   "source": [
    "import cv2\n",
    "import numpy as np"
   ]
  },
  {
   "cell_type": "code",
   "execution_count": 2,
   "metadata": {
    "pycharm": {
     "name": "#%%\n"
    }
   },
   "outputs": [
    {
     "data": {
      "text/plain": [
       "(1886, 1080, 3)"
      ]
     },
     "execution_count": 2,
     "metadata": {},
     "output_type": "execute_result"
    }
   ],
   "source": [
    "image = cv2.imread(\"tp.jpg\")\n",
    "image.shape"
   ]
  },
  {
   "cell_type": "code",
   "execution_count": 3,
   "metadata": {
    "pycharm": {
     "name": "#%%\n"
    }
   },
   "outputs": [
    {
     "name": "stdout",
     "output_type": "stream",
     "text": [
      "[[[ 69  29  11]\n",
      "  [ 69  29  11]\n",
      "  [ 69  29  11]\n",
      "  ...\n",
      "  [ 89  34  19]\n",
      "  [ 89  34  19]\n",
      "  [ 89  34  19]]\n",
      "\n",
      " [[ 69  29  11]\n",
      "  [ 69  29  11]\n",
      "  [ 69  29  11]\n",
      "  ...\n",
      "  [ 89  34  19]\n",
      "  [ 89  34  19]\n",
      "  [ 89  34  19]]\n",
      "\n",
      " [[ 69  29  11]\n",
      "  [ 69  29  11]\n",
      "  [ 69  29  11]\n",
      "  ...\n",
      "  [ 89  34  19]\n",
      "  [ 89  34  19]\n",
      "  [ 89  34  19]]\n",
      "\n",
      " ...\n",
      "\n",
      " [[210 177 162]\n",
      "  [209 176 161]\n",
      "  [209 176 161]\n",
      "  ...\n",
      "  [188 108  23]\n",
      "  [188 108  23]\n",
      "  [188 108  23]]\n",
      "\n",
      " [[209 176 161]\n",
      "  [209 176 161]\n",
      "  [209 176 161]\n",
      "  ...\n",
      "  [188 108  23]\n",
      "  [188 108  23]\n",
      "  [188 108  23]]\n",
      "\n",
      " [[208 175 160]\n",
      "  [209 176 161]\n",
      "  [210 177 162]\n",
      "  ...\n",
      "  [188 108  23]\n",
      "  [188 108  23]\n",
      "  [188 108  23]]]\n"
     ]
    }
   ],
   "source": [
    "print(image)"
   ]
  },
  {
   "cell_type": "code",
   "execution_count": 4,
   "metadata": {
    "pycharm": {
     "name": "#%%\n"
    }
   },
   "outputs": [
    {
     "data": {
      "text/plain": [
       "True"
      ]
     },
     "execution_count": 4,
     "metadata": {},
     "output_type": "execute_result"
    }
   ],
   "source": [
    "cv2.imwrite(\"tp.bak.jpg\",image)\n"
   ]
  }
 ],
 "metadata": {
  "kernelspec": {
   "display_name": "Python 3",
   "language": "python",
   "name": "python3"
  },
  "language_info": {
   "codemirror_mode": {
    "name": "ipython",
    "version": 3
   },
   "file_extension": ".py",
   "mimetype": "text/x-python",
   "name": "python",
   "nbconvert_exporter": "python",
   "pygments_lexer": "ipython3",
   "version": "3.7.7"
  }
 },
 "nbformat": 4,
 "nbformat_minor": 1
}
